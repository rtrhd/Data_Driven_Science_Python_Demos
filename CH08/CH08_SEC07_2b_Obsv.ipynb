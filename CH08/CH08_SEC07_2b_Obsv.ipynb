{
 "cells": [
  {
   "cell_type": "code",
   "execution_count": 1,
   "metadata": {},
   "outputs": [],
   "source": [
    "import numpy as np\n",
    "from numpy.linalg import det\n",
    "\n",
    "# Python control toolbox: https://python-control.readthedocs.io/\n",
    "from control import gram, ss, obsv, use_numpy_matrix\n",
    "from control.matlab import sys\n",
    "use_numpy_matrix(False)"
   ]
  },
  {
   "cell_type": "code",
   "execution_count": 2,
   "metadata": {},
   "outputs": [
    {
     "name": "stdout",
     "output_type": "stream",
     "text": [
      "Observability matrix:\n",
      "[[ 0.    0.    1.    0.  ]\n",
      " [ 0.    0.    0.    1.  ]\n",
      " [ 0.    0.1  -6.    0.  ]\n",
      " [ 0.   -0.02  0.2  -6.  ]]\n",
      "Observability matrix determinant: 0.0\n"
     ]
    }
   ],
   "source": [
    "m = 1\n",
    "M = 5\n",
    "L = 2\n",
    "g = -10\n",
    "d = 1\n",
    "\n",
    "b = -1 # pendulum down (b = -1)\n",
    "\n",
    "A = np.array([\n",
    "    [0,          1,                0, 0],\n",
    "    [0,       -d/M,          b*m*g/M, 0],\n",
    "    [0,          0,                0, 1],\n",
    "    [0, -b*d/(M*L), -b*(m+M)*g/(M*L), 0]\n",
    "])\n",
    "\n",
    "B = np.array([[0, 1/M, 0, b/(M*L)]]).T\n",
    "C = np.array([[0, 0, 1, 0]]) # only observable if x measured... because x can't be\n",
    "Observability = obsv(A, C)\n",
    "\n",
    "print(\"Observability matrix:\")\n",
    "print(f\"{Observability}\")\n",
    "print(f\"Observability matrix determinant: {det(Observability)}\")"
   ]
  },
  {
   "cell_type": "code",
   "execution_count": 3,
   "metadata": {},
   "outputs": [
    {
     "name": "stdout",
     "output_type": "stream",
     "text": [
      "Observability matrix:\n",
      "[[ 0.   1.   0. ]\n",
      " [ 0.   0.   1. ]\n",
      " [ 0.1 -6.   0. ]]\n",
      "Gramian determinant: 0.03125\n"
     ]
    }
   ],
   "source": [
    "# Which measurements are best if we omit \"x\"\n",
    "A_h = A[1:, 1:]\n",
    "B_h = B[1:, :]\n",
    "C_h = C[:, 1:]\n",
    "D_h = np.zeros((C_h.shape[0], B_h.shape[1]))\n",
    "\n",
    "system = ss(A_h, B_h, C_h, D_h)\n",
    "Observability = obsv(A_h, C_h)\n",
    "W_o = gram(system, 'o')\n",
    "\n",
    "print(\"Observability matrix:\")\n",
    "print(f\"{Observability}\")\n",
    "print(f\"Gramian determinant: {det(W_o):0.5f}\")"
   ]
  }
 ],
 "metadata": {
  "kernelspec": {
   "display_name": "Python 3",
   "language": "python",
   "name": "python3"
  },
  "language_info": {
   "codemirror_mode": {
    "name": "ipython",
    "version": 3
   },
   "file_extension": ".py",
   "mimetype": "text/x-python",
   "name": "python",
   "nbconvert_exporter": "python",
   "pygments_lexer": "ipython3",
   "version": "3.8.8"
  }
 },
 "nbformat": 4,
 "nbformat_minor": 4
}
