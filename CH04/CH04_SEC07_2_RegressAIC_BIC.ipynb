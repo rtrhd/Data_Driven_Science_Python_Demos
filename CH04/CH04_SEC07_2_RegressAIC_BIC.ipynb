{
 "cells": [
  {
   "cell_type": "code",
   "execution_count": 1,
   "metadata": {},
   "outputs": [],
   "source": [
    "# https://www.statsmodels.org/\n",
    "from statsmodels.tsa.arima_process import ArmaProcess\n",
    "from statsmodels.tsa.arima.model import ARIMA"
   ]
  },
  {
   "cell_type": "code",
   "execution_count": 2,
   "metadata": {},
   "outputs": [
    {
     "name": "stdout",
     "output_type": "stream",
     "text": [
      "AIC: [425.48954064843014, 405.0967164676661, 405.5015682444658]\n",
      "BIC: [433.3050512063944, 415.51739721161846, 418.52741917440625]\n"
     ]
    }
   ],
   "source": [
    "# Simulation\n",
    "y = -4 + ArmaProcess(\n",
    "    ar=[1, -0.2, -0.5], ma=[1]\n",
    ").generate_sample(nsample=100, scale=2)\n",
    "\n",
    "# Fitting with different order (p, d, q) models\n",
    "fits = [ARIMA(y, order=(k, 0, 0)).fit() for k in range(1, 4)]\n",
    "\n",
    "# Information Criteria for each model\n",
    "print(f'AIC: {[fit.aic for fit in fits]}')\n",
    "print(f'BIC: {[fit.bic for fit in fits]}')"
   ]
  }
 ],
 "metadata": {
  "kernelspec": {
   "display_name": "Python 3",
   "language": "python",
   "name": "python3"
  },
  "language_info": {
   "codemirror_mode": {
    "name": "ipython",
    "version": 3
   },
   "file_extension": ".py",
   "mimetype": "text/x-python",
   "name": "python",
   "nbconvert_exporter": "python",
   "pygments_lexer": "ipython3",
   "version": "3.8.5"
  }
 },
 "nbformat": 4,
 "nbformat_minor": 4
}
