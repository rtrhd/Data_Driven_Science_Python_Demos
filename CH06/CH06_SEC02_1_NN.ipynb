{
 "cells": [
  {
   "cell_type": "code",
   "execution_count": 1,
   "metadata": {},
   "outputs": [],
   "source": [
    "from os.path import join\n",
    "\n",
    "import numpy as np\n",
    "from scipy.io import loadmat\n",
    "from sklearn.neural_network import MLPClassifier\n",
    "\n",
    "import matplotlib.pyplot as plt\n",
    "plt.rcParams['font.size'] = 18"
   ]
  },
  {
   "cell_type": "code",
   "execution_count": 2,
   "metadata": {},
   "outputs": [],
   "source": [
    "dogdata_w_mat = loadmat(join('..', 'DATA', 'dogData_w.mat'))\n",
    "catdata_w_mat = loadmat(join('..', 'DATA', 'catData_w.mat'))\n",
    "\n",
    "dog_wave = dogdata_w_mat['dog_wave']\n",
    "cat_wave = catdata_w_mat['cat_wave']\n",
    "\n",
    "_, nimages = dog_wave.shape\n",
    "ntrain = 40\n",
    "ntest = nimages - ntrain\n",
    "\n",
    "train = np.hstack(\n",
    "    [dog_wave[:, :ntrain], cat_wave[:, :ntrain]]\n",
    ")\n",
    "test = np.hstack(\n",
    "    [dog_wave[:, ntrain:], cat_wave[:, ntrain:]]\n",
    ")\n",
    "labels = np.repeat([1, 0], ntrain)\n",
    "truth = np.repeat([1, 0], ntest)"
   ]
  },
  {
   "cell_type": "code",
   "execution_count": 3,
   "metadata": {},
   "outputs": [],
   "source": [
    "classifier = MLPClassifier(hidden_layer_sizes=(10,), solver='lbfgs', activation='tanh', random_state=42).fit(train.T, labels)\n",
    "predictions = classifier.predict(test.T)"
   ]
  },
  {
   "cell_type": "code",
   "execution_count": 4,
   "metadata": {},
   "outputs": [
    {
     "data": {
      "image/png": "[encoded data removed]",
      "text/plain": [
       "<Figure size 864x360 with 1 Axes>"
      ]
     },
     "metadata": {},
     "output_type": "display_data"
    }
   ],
   "source": [
    "# Figure 6.6 (equivalent)\n",
    "\n",
    "fig, ax = plt.subplots(figsize=(12, 5))\n",
    "accurate = np.logical_not(predictions ^ truth)\n",
    "colors = ['grey' if item else 'indianred' for item in accurate]\n",
    "ax.bar(range(1, 2*ntest+1), predictions - 0.5, color=colors)\n",
    "ax.axes.yaxis.set_ticks([])\n",
    "ax.axes.xaxis.set_ticks([])\n",
    "for loc in ['left', 'right', 'top']:\n",
    "    ax.spines[loc].set_visible(False)\n",
    "    ax.spines['bottom'].set_position('zero')\n",
    "ax.set_ylabel('Withheld')\n",
    "ax.text(0.01, 1, 'dogs', transform=ax.transAxes)\n",
    "ax.text(0.9, -0.05, 'cats', transform=ax.transAxes);"
   ]
  }
 ],
 "metadata": {
  "kernelspec": {
   "display_name": "Python 3",
   "language": "python",
   "name": "python3"
  },
  "language_info": {
   "codemirror_mode": {
    "name": "ipython",
    "version": 3
   },
   "file_extension": ".py",
   "mimetype": "text/x-python",
   "name": "python",
   "nbconvert_exporter": "python",
   "pygments_lexer": "ipython3",
   "version": "3.8.5"
  }
 },
 "nbformat": 4,
 "nbformat_minor": 4
}
