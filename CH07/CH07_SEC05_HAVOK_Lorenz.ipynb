{
 "cells": [
  {
   "cell_type": "code",
   "execution_count": 1,
   "metadata": {},
   "outputs": [],
   "source": [
    "import numpy as np\n",
    "from numpy.linalg import svd, lstsq\n",
    "from scipy.integrate import solve_ivp\n",
    "\n",
    "import matplotlib.pyplot as plt\n",
    "plt.rcParams['font.size'] = 18\n",
    "np.random.seed(123)"
   ]
  },
  {
   "cell_type": "code",
   "execution_count": 3,
   "metadata": {},
   "outputs": [],
   "source": [
    "# Simulate the Lorenz System\n",
    "tstart, tstop = 0, 50\n",
    "dt = 0.01\n",
    "timepoints = np.arange(tstart, tstop + dt, dt)\n",
    "\n",
    "σ, ρ, β = 10, 28, 8/3\n",
    "x_0 = (-8, 8, 27)\n",
    "\n",
    "def lorenz(t, x_t, σ=σ, ρ=ρ, β=β):\n",
    "    \"\"\"Lorenz differential equation, returns LHS (derivatives) at a point `x_t`.\"\"\"\n",
    "    x, y, z = x_t\n",
    "    return σ*(y - x), x*(ρ - z) - y, x*y - β*z\n",
    "\n",
    "x = solve_ivp(lorenz, (tstart, tstop), x_0, t_eval=timepoints, rtol=1e-12, atol=1e-12).y.T\n",
    "npoints, ncoords = x.shape"
   ]
  },
  {
   "cell_type": "code",
   "execution_count": 4,
   "metadata": {},
   "outputs": [],
   "source": [
    "# HAVOK model of Lorenz System\n",
    "\n",
    "# Number of shift-stacked rows\n",
    "stackmax = 10\n",
    "\n",
    "# Rank of HAVOK model\n",
    "r = 10\n",
    "\n",
    "# Eigen-time delay coordinates\n",
    "H = np.empty((stackmax, npoints-stackmax))\n",
    "for k in range(stackmax):\n",
    "    H[k, :] = x[k:-(stackmax-k), 0] # weird - why just the x (ie 0-th) component?\n",
    "    \n",
    "U, S, VT = svd(H, full_matrices=False)\n",
    "V = VT.T\n",
    "\n",
    "# Derivatives (4th Order Central Difference)\n",
    "dV = 1/(12*dt) * (-V[4:] + 8*V[3:-1] - 8*V[1:-3] + V[:-4])\n",
    "\n",
    "# Trim first and last two of V that are lost in the derivative\n",
    "V = V[2:-2]\n",
    "\n",
    "# Build HAVOK Regression Model on Time Delay Coordinates\n",
    "Ξ, *_ = lstsq(V, dV, rcond=None)\n",
    "A = Ξ[:r-1, :r-1].T\n",
    "B = Ξ[-1,   :r-1]"
   ]
  },
  {
   "cell_type": "code",
   "execution_count": 5,
   "metadata": {},
   "outputs": [
    {
     "name": "stdout",
     "output_type": "stream",
     "text": [
      "[ -0.0000  -0.0000   0.0001   0.0000   0.0074  -0.0000   0.8960  -0.0005\n",
      " -44.8691]\n"
     ]
    }
   ],
   "source": [
    "with np.printoptions(floatmode='fixed', precision=4, suppress=True):\n",
    "    print(B)"
   ]
  }
 ],
 "metadata": {
  "kernelspec": {
   "display_name": "Python 3",
   "language": "python",
   "name": "python3"
  },
  "language_info": {
   "codemirror_mode": {
    "name": "ipython",
    "version": 3
   },
   "file_extension": ".py",
   "mimetype": "text/x-python",
   "name": "python",
   "nbconvert_exporter": "python",
   "pygments_lexer": "ipython3",
   "version": "3.8.8"
  }
 },
 "nbformat": 4,
 "nbformat_minor": 4
}
